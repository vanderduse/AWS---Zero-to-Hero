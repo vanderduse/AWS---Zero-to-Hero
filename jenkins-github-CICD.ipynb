{
 "cells": [
  {
   "cell_type": "markdown",
   "metadata": {},
   "source": [
    "## Topics\n",
    "1. what is devops\n",
    "2. How to do it\n",
    "3. what tools do we use\n",
    "4. linux commands important to know\n",
    "\n"
   ]
  },
  {
   "cell_type": "markdown",
   "metadata": {},
   "source": [
    "#### what is devops\n",
    "devops is combination of devlopment and operational practces which were different before but are embedded now\n",
    "\n",
    "how it actually works \n",
    "1. we bring code from devlopers to github\n",
    "2. devops engineer taked the code from github and makes sure it is running in a environment eg AWS cloud or instance in cloud and virtualize it to make it run cross platform we will use tool like __DOCKER__ , then run the code (deploy) in a __EC2 Instance__\n",
    "3. for this we need to build a pipeline and for that we use __Jenkins__  \n",
    "\n",
    " \n"
   ]
  },
  {
   "cell_type": "markdown",
   "metadata": {},
   "source": [
    "# How to Do it \n",
    "(notes for the same https://docs.google.com/document/d/1qos4eUfY4vZojjnZLSGw8D3A46Yy2r42uiZPyPxL17A/edit#heading=h.i7ldfo5cwnft)\n",
    "1. create a EC2 instance and configure it appropriately and launch the instance and connect it\n",
    "2. to create a pipeline for the CICD we need to install Jenkins on the EC2 instance we created so install it using install jenkins ubunto as ec2 is in ubunto and install java as it is necessary to run jenkins therefore __sudo apt install openjdk-version of java you want__, for last time update using sudo apt-get update\n",
    "3. start the jenkins service using __systemctl start jenkins command__\n",
    "4. jenins runs on port 8080 therfore in your ec2 instance change the security group settings and allow the trafic from port 8080 using TCP and use your ip traffic only\n",
    "and your jenkins is cofigured \n",
    "5. in jenkins click \n",
    "1. create a new item \n",
    "2. choose freestyle project \n",
    "3. fill out the general description \n",
    "4. add your github url for the project \n",
    "5. provide github public key of your ec2 instance using ssh and enter it into your github \n",
    "6. give jenkins credentials and your private key of ec2 there , this will create a connection between github->Jenkins->EC2  \n",
    "7. build a docker image of the current application so it cam be rum over all the platforms \n",
    "8. now you have fully configured platfrom independent web app which is build using cicd \n",
    "\n",
    "\n",
    "the developer or us we have to create a dockerfile into our repo , and in the jenkins we have to build that file using execute shell script command , dont forget "
   ]
  },
  {
   "cell_type": "markdown",
   "metadata": {},
   "source": [
    "#### what tools do we use\n",
    "1. __docker__ for containerization\n",
    "2. __terraform__ for infrastructre as code \n",
    "3. building code using __github__ actions\n",
    "4. __jenkins__ to  build cicd pipeline\n",
    "5. __webhook__ is used to create to raise a alarm whenever action is performed on github and autmatically triggers the pipeline to do the necessary changes "
   ]
  },
  {
   "attachments": {
    "image-2.png": {
     "image/png": "[encoded data removed]"
    },
    "image.png": {
     "image/png": "[encoded data removed]"
    }
   },
   "cell_type": "markdown",
   "metadata": {
    "vscode": {
     "languageId": "plaintext"
    }
   },
   "source": [
    "# Linux comands important to know as a devops engineer \n",
    "\n",
    "linux is a os which acts as heart to communicate with other applications , it is open source and has a kernel , it has different flav (kali,ubunto)\n",
    "\n",
    "1. whoami: to know the user \n",
    "2. touch: to make a file \n",
    "3. ls : to list the files and folders\n",
    "4. pwd : present working directory\n",
    "5. cd : change directory \n",
    "6. mv : to move file from one directory to another eg: suppose we have a file in xyz directory and want to move it to directoy abc\n",
    "so : mv 'location of file you want to copy' 'location where you want to copy'\n",
    "![image.png](attachment:image.png)\n",
    "if you are present in the folder where you want to copy the file , simply add'.' this means current directoy\n",
    "7. nano : a text editor like notepad but in linux\n",
    "![image-2.png](attachment:image-2.png)\n",
    "8. cat : used to see what is written inside a file \n",
    "9. echo : used as print \n",
    "10. history : used to see what commands you have used \n",
    "11. ls-la: to know more details about file\n",
    "12. rm: to remove file \n",
    "13. scp : used for server copy , means copy from ec2 to your local or vise versa ,\n",
    "sudo scp -i 'your pem file' 'your source''your destination'\n",
    "\n"
   ]
  },
  {
   "cell_type": "code",
   "execution_count": null,
   "metadata": {},
   "outputs": [],
   "source": []
  }
 ],
 "metadata": {
  "language_info": {
   "name": "python"
  }
 },
 "nbformat": 4,
 "nbformat_minor": 2
}
